{
  "nbformat": 4,
  "nbformat_minor": 0,
  "metadata": {
    "colab": {
      "name": "stock_market_using_LSTM.pynb",
      "provenance": [],
      "collapsed_sections": [],
      "authorship_tag": "ABX9TyNnv8OMmAhxFOrOXtM9AtIO",
      "include_colab_link": true
    },
    "kernelspec": {
      "name": "python3",
      "display_name": "Python 3"
    },
    "language_info": {
      "name": "python"
    }
  },
  "cells": [
    {
      "cell_type": "markdown",
      "metadata": {
        "id": "view-in-github",
        "colab_type": "text"
      },
      "source": [
        "<a href=\"https://colab.research.google.com/github/ShivamGuptadata/TSF-GRIP-TASK-2/blob/main/stock_market_using_LSTM_pynb.ipynb\" target=\"_parent\"><img src=\"https://colab.research.google.com/assets/colab-badge.svg\" alt=\"Open In Colab\"/></a>"
      ]
    },
    {
      "cell_type": "markdown",
      "metadata": {
        "id": "Ayszs58kgxLb"
      },
      "source": [
        "**LetsGrowMore**\n",
        "#LGM VIRTUAL INTERNSHIP PROGRAM 2021\n",
        "##Task-2)Stock Market Prediction And Forecasting Using Stacked LSTM\n",
        "\n",
        "##**By-SHIVAM KUMAR GUPTA**\n",
        "\n",
        "##**Table of contents:**\n",
        "#1.Introduction\n",
        "#2.Import Required Libraries\n",
        "#3.Reading and understanding the dataset\n",
        "         *   Imorting Datasets\n",
        "         *   Inspecting Dataframes\n",
        "#4.Data Cleaning and Preparation\n",
        "        *   Checking Null Values \n",
        "        *   Analyze and Drop Irrelevent Variasbles\n",
        "        *   Normalizing The Data Values\n",
        "#5.Data Analyze\n",
        "        *   Splitting the dataset \n",
        "        *   Changing the Dimension \n",
        "#6.Build the LSTM model\n",
        "#7.Predictions using the LSTM model\n",
        "#8.Visualize the predicted stock costs with actual stock costs\n",
        "\n"
      ]
    },
    {
      "cell_type": "markdown",
      "metadata": {
        "id": "0l_04e7Bn5x5"
      },
      "source": [
        "##**1.Introduction**\n",
        "Time series prediction problems are a difficult type of predictive modeling problem.Unlike regression predictive modeling, time series also adds the complexity of a sequence dependence among the input variables.\n",
        "A powerful type of neural network designed to handle sequence dependence is called recurrent neural networks. The **Long Short-Term Memory network or LSTM **network is a type of recurrent neural network used in deep learning because very large architectures can be successfully trained.\n",
        "##Problem Description\n",
        "The problem where we see the future behavior of Stock price. While predicting the actul price of stock is an uphill climb."
      ]
    },
    {
      "cell_type": "markdown",
      "metadata": {
        "id": "PCh_QttdGh-6"
      },
      "source": [
        "##**Import Required Library**"
      ]
    },
    {
      "cell_type": "code",
      "metadata": {
        "id": "wRmcfv4JGO2l"
      },
      "source": [
        "import numpy as np\n",
        "import pandas as pd\n",
        "import matplotlib.pyplot as plt\n",
        "%matplotlib inline\n",
        "from sklearn.preprocessing import MinMaxScaler\n",
        "from sklearn.model_selection import train_test_split\n",
        "from tensorflow.keras.models import Sequential\n",
        "from tensorflow.keras.layers import Dense\n",
        "from tensorflow.keras.layers import LSTM\n",
        "from numpy import newaxis\n",
        "import math\n",
        "from sklearn.metrics import mean_squared_error"
      ],
      "execution_count": 1,
      "outputs": []
    },
    {
      "cell_type": "markdown",
      "metadata": {
        "id": "UAiaqYBNHUZ0"
      },
      "source": [
        "##**Read the dataset**"
      ]
    },
    {
      "cell_type": "code",
      "metadata": {
        "id": "RvN3ADViHB6T"
      },
      "source": [
        "#load the Dataset\n",
        "link='https://raw.githubusercontent.com/mwitiderrick/stockprice/master/NSE-TATAGLOBAL.csv'\n",
        "df=pd.read_csv(link)"
      ],
      "execution_count": 2,
      "outputs": []
    },
    {
      "cell_type": "code",
      "metadata": {
        "colab": {
          "base_uri": "https://localhost:8080/",
          "height": 376
        },
        "id": "sHcY9cCXHQ2J",
        "outputId": "0459fca8-960d-4c25-bb4c-f53c82d49ca2"
      },
      "source": [
        "print(\"starting 10 dataset:\")\n",
        "df.head(10)"
      ],
      "execution_count": 3,
      "outputs": [
        {
          "output_type": "stream",
          "text": [
            "starting 10 dataset:\n"
          ],
          "name": "stdout"
        },
        {
          "output_type": "execute_result",
          "data": {
            "text/html": [
              "<div>\n",
              "<style scoped>\n",
              "    .dataframe tbody tr th:only-of-type {\n",
              "        vertical-align: middle;\n",
              "    }\n",
              "\n",
              "    .dataframe tbody tr th {\n",
              "        vertical-align: top;\n",
              "    }\n",
              "\n",
              "    .dataframe thead th {\n",
              "        text-align: right;\n",
              "    }\n",
              "</style>\n",
              "<table border=\"1\" class=\"dataframe\">\n",
              "  <thead>\n",
              "    <tr style=\"text-align: right;\">\n",
              "      <th></th>\n",
              "      <th>Date</th>\n",
              "      <th>Open</th>\n",
              "      <th>High</th>\n",
              "      <th>Low</th>\n",
              "      <th>Last</th>\n",
              "      <th>Close</th>\n",
              "      <th>Total Trade Quantity</th>\n",
              "      <th>Turnover (Lacs)</th>\n",
              "    </tr>\n",
              "  </thead>\n",
              "  <tbody>\n",
              "    <tr>\n",
              "      <th>0</th>\n",
              "      <td>2018-09-28</td>\n",
              "      <td>234.05</td>\n",
              "      <td>235.95</td>\n",
              "      <td>230.20</td>\n",
              "      <td>233.50</td>\n",
              "      <td>233.75</td>\n",
              "      <td>3069914</td>\n",
              "      <td>7162.35</td>\n",
              "    </tr>\n",
              "    <tr>\n",
              "      <th>1</th>\n",
              "      <td>2018-09-27</td>\n",
              "      <td>234.55</td>\n",
              "      <td>236.80</td>\n",
              "      <td>231.10</td>\n",
              "      <td>233.80</td>\n",
              "      <td>233.25</td>\n",
              "      <td>5082859</td>\n",
              "      <td>11859.95</td>\n",
              "    </tr>\n",
              "    <tr>\n",
              "      <th>2</th>\n",
              "      <td>2018-09-26</td>\n",
              "      <td>240.00</td>\n",
              "      <td>240.00</td>\n",
              "      <td>232.50</td>\n",
              "      <td>235.00</td>\n",
              "      <td>234.25</td>\n",
              "      <td>2240909</td>\n",
              "      <td>5248.60</td>\n",
              "    </tr>\n",
              "    <tr>\n",
              "      <th>3</th>\n",
              "      <td>2018-09-25</td>\n",
              "      <td>233.30</td>\n",
              "      <td>236.75</td>\n",
              "      <td>232.00</td>\n",
              "      <td>236.25</td>\n",
              "      <td>236.10</td>\n",
              "      <td>2349368</td>\n",
              "      <td>5503.90</td>\n",
              "    </tr>\n",
              "    <tr>\n",
              "      <th>4</th>\n",
              "      <td>2018-09-24</td>\n",
              "      <td>233.55</td>\n",
              "      <td>239.20</td>\n",
              "      <td>230.75</td>\n",
              "      <td>234.00</td>\n",
              "      <td>233.30</td>\n",
              "      <td>3423509</td>\n",
              "      <td>7999.55</td>\n",
              "    </tr>\n",
              "    <tr>\n",
              "      <th>5</th>\n",
              "      <td>2018-09-21</td>\n",
              "      <td>235.00</td>\n",
              "      <td>237.00</td>\n",
              "      <td>227.95</td>\n",
              "      <td>233.75</td>\n",
              "      <td>234.60</td>\n",
              "      <td>5395319</td>\n",
              "      <td>12589.59</td>\n",
              "    </tr>\n",
              "    <tr>\n",
              "      <th>6</th>\n",
              "      <td>2018-09-19</td>\n",
              "      <td>235.95</td>\n",
              "      <td>237.20</td>\n",
              "      <td>233.45</td>\n",
              "      <td>234.60</td>\n",
              "      <td>234.90</td>\n",
              "      <td>1362058</td>\n",
              "      <td>3202.78</td>\n",
              "    </tr>\n",
              "    <tr>\n",
              "      <th>7</th>\n",
              "      <td>2018-09-18</td>\n",
              "      <td>237.90</td>\n",
              "      <td>239.25</td>\n",
              "      <td>233.50</td>\n",
              "      <td>235.50</td>\n",
              "      <td>235.05</td>\n",
              "      <td>2614794</td>\n",
              "      <td>6163.70</td>\n",
              "    </tr>\n",
              "    <tr>\n",
              "      <th>8</th>\n",
              "      <td>2018-09-17</td>\n",
              "      <td>233.15</td>\n",
              "      <td>238.00</td>\n",
              "      <td>230.25</td>\n",
              "      <td>236.40</td>\n",
              "      <td>236.60</td>\n",
              "      <td>3170894</td>\n",
              "      <td>7445.41</td>\n",
              "    </tr>\n",
              "    <tr>\n",
              "      <th>9</th>\n",
              "      <td>2018-09-14</td>\n",
              "      <td>223.45</td>\n",
              "      <td>236.70</td>\n",
              "      <td>223.30</td>\n",
              "      <td>234.00</td>\n",
              "      <td>233.95</td>\n",
              "      <td>6377909</td>\n",
              "      <td>14784.50</td>\n",
              "    </tr>\n",
              "  </tbody>\n",
              "</table>\n",
              "</div>"
            ],
            "text/plain": [
              "         Date    Open    High  ...   Close  Total Trade Quantity  Turnover (Lacs)\n",
              "0  2018-09-28  234.05  235.95  ...  233.75               3069914          7162.35\n",
              "1  2018-09-27  234.55  236.80  ...  233.25               5082859         11859.95\n",
              "2  2018-09-26  240.00  240.00  ...  234.25               2240909          5248.60\n",
              "3  2018-09-25  233.30  236.75  ...  236.10               2349368          5503.90\n",
              "4  2018-09-24  233.55  239.20  ...  233.30               3423509          7999.55\n",
              "5  2018-09-21  235.00  237.00  ...  234.60               5395319         12589.59\n",
              "6  2018-09-19  235.95  237.20  ...  234.90               1362058          3202.78\n",
              "7  2018-09-18  237.90  239.25  ...  235.05               2614794          6163.70\n",
              "8  2018-09-17  233.15  238.00  ...  236.60               3170894          7445.41\n",
              "9  2018-09-14  223.45  236.70  ...  233.95               6377909         14784.50\n",
              "\n",
              "[10 rows x 8 columns]"
            ]
          },
          "metadata": {
            "tags": []
          },
          "execution_count": 3
        }
      ]
    },
    {
      "cell_type": "markdown",
      "metadata": {
        "id": "1RN4_7bJHeSK"
      },
      "source": [
        "##**Data Cleaning and Preparation**"
      ]
    },
    {
      "cell_type": "code",
      "metadata": {
        "colab": {
          "base_uri": "https://localhost:8080/"
        },
        "id": "9pL5k3pxINMH",
        "outputId": "39c03437-801e-49e3-dbd5-e4aa8d47c9c4"
      },
      "source": [
        "print(\"shape of the dataset:\",df.shape)"
      ],
      "execution_count": 4,
      "outputs": [
        {
          "output_type": "stream",
          "text": [
            "shape of the dataset: (2035, 8)\n"
          ],
          "name": "stdout"
        }
      ]
    },
    {
      "cell_type": "code",
      "metadata": {
        "colab": {
          "base_uri": "https://localhost:8080/"
        },
        "id": "0ppyJc7wItT3",
        "outputId": "5fb4c737-96ad-4aaf-96e2-2f3e78a9b1ad"
      },
      "source": [
        "print(\"Complete information of the dataset\")\n",
        "df.info()"
      ],
      "execution_count": 5,
      "outputs": [
        {
          "output_type": "stream",
          "text": [
            "Complete information of the dataset\n",
            "<class 'pandas.core.frame.DataFrame'>\n",
            "RangeIndex: 2035 entries, 0 to 2034\n",
            "Data columns (total 8 columns):\n",
            " #   Column                Non-Null Count  Dtype  \n",
            "---  ------                --------------  -----  \n",
            " 0   Date                  2035 non-null   object \n",
            " 1   Open                  2035 non-null   float64\n",
            " 2   High                  2035 non-null   float64\n",
            " 3   Low                   2035 non-null   float64\n",
            " 4   Last                  2035 non-null   float64\n",
            " 5   Close                 2035 non-null   float64\n",
            " 6   Total Trade Quantity  2035 non-null   int64  \n",
            " 7   Turnover (Lacs)       2035 non-null   float64\n",
            "dtypes: float64(6), int64(1), object(1)\n",
            "memory usage: 127.3+ KB\n"
          ],
          "name": "stdout"
        }
      ]
    },
    {
      "cell_type": "code",
      "metadata": {
        "colab": {
          "base_uri": "https://localhost:8080/",
          "height": 314
        },
        "id": "nbpWU8ioIuF5",
        "outputId": "98b6a2d2-b6cd-4873-8efc-a7f449d3fbca"
      },
      "source": [
        "print(\"Describe the dataset\")\n",
        "df.describe()"
      ],
      "execution_count": 6,
      "outputs": [
        {
          "output_type": "stream",
          "text": [
            "Describe the dataset\n"
          ],
          "name": "stdout"
        },
        {
          "output_type": "execute_result",
          "data": {
            "text/html": [
              "<div>\n",
              "<style scoped>\n",
              "    .dataframe tbody tr th:only-of-type {\n",
              "        vertical-align: middle;\n",
              "    }\n",
              "\n",
              "    .dataframe tbody tr th {\n",
              "        vertical-align: top;\n",
              "    }\n",
              "\n",
              "    .dataframe thead th {\n",
              "        text-align: right;\n",
              "    }\n",
              "</style>\n",
              "<table border=\"1\" class=\"dataframe\">\n",
              "  <thead>\n",
              "    <tr style=\"text-align: right;\">\n",
              "      <th></th>\n",
              "      <th>Open</th>\n",
              "      <th>High</th>\n",
              "      <th>Low</th>\n",
              "      <th>Last</th>\n",
              "      <th>Close</th>\n",
              "      <th>Total Trade Quantity</th>\n",
              "      <th>Turnover (Lacs)</th>\n",
              "    </tr>\n",
              "  </thead>\n",
              "  <tbody>\n",
              "    <tr>\n",
              "      <th>count</th>\n",
              "      <td>2035.000000</td>\n",
              "      <td>2035.000000</td>\n",
              "      <td>2035.000000</td>\n",
              "      <td>2035.000000</td>\n",
              "      <td>2035.00000</td>\n",
              "      <td>2.035000e+03</td>\n",
              "      <td>2035.000000</td>\n",
              "    </tr>\n",
              "    <tr>\n",
              "      <th>mean</th>\n",
              "      <td>149.713735</td>\n",
              "      <td>151.992826</td>\n",
              "      <td>147.293931</td>\n",
              "      <td>149.474251</td>\n",
              "      <td>149.45027</td>\n",
              "      <td>2.335681e+06</td>\n",
              "      <td>3899.980565</td>\n",
              "    </tr>\n",
              "    <tr>\n",
              "      <th>std</th>\n",
              "      <td>48.664509</td>\n",
              "      <td>49.413109</td>\n",
              "      <td>47.931958</td>\n",
              "      <td>48.732570</td>\n",
              "      <td>48.71204</td>\n",
              "      <td>2.091778e+06</td>\n",
              "      <td>4570.767877</td>\n",
              "    </tr>\n",
              "    <tr>\n",
              "      <th>min</th>\n",
              "      <td>81.100000</td>\n",
              "      <td>82.800000</td>\n",
              "      <td>80.000000</td>\n",
              "      <td>81.000000</td>\n",
              "      <td>80.95000</td>\n",
              "      <td>3.961000e+04</td>\n",
              "      <td>37.040000</td>\n",
              "    </tr>\n",
              "    <tr>\n",
              "      <th>25%</th>\n",
              "      <td>120.025000</td>\n",
              "      <td>122.100000</td>\n",
              "      <td>118.300000</td>\n",
              "      <td>120.075000</td>\n",
              "      <td>120.05000</td>\n",
              "      <td>1.146444e+06</td>\n",
              "      <td>1427.460000</td>\n",
              "    </tr>\n",
              "    <tr>\n",
              "      <th>50%</th>\n",
              "      <td>141.500000</td>\n",
              "      <td>143.400000</td>\n",
              "      <td>139.600000</td>\n",
              "      <td>141.100000</td>\n",
              "      <td>141.25000</td>\n",
              "      <td>1.783456e+06</td>\n",
              "      <td>2512.030000</td>\n",
              "    </tr>\n",
              "    <tr>\n",
              "      <th>75%</th>\n",
              "      <td>157.175000</td>\n",
              "      <td>159.400000</td>\n",
              "      <td>155.150000</td>\n",
              "      <td>156.925000</td>\n",
              "      <td>156.90000</td>\n",
              "      <td>2.813594e+06</td>\n",
              "      <td>4539.015000</td>\n",
              "    </tr>\n",
              "    <tr>\n",
              "      <th>max</th>\n",
              "      <td>327.700000</td>\n",
              "      <td>328.750000</td>\n",
              "      <td>321.650000</td>\n",
              "      <td>325.950000</td>\n",
              "      <td>325.75000</td>\n",
              "      <td>2.919102e+07</td>\n",
              "      <td>55755.080000</td>\n",
              "    </tr>\n",
              "  </tbody>\n",
              "</table>\n",
              "</div>"
            ],
            "text/plain": [
              "              Open         High  ...  Total Trade Quantity  Turnover (Lacs)\n",
              "count  2035.000000  2035.000000  ...          2.035000e+03      2035.000000\n",
              "mean    149.713735   151.992826  ...          2.335681e+06      3899.980565\n",
              "std      48.664509    49.413109  ...          2.091778e+06      4570.767877\n",
              "min      81.100000    82.800000  ...          3.961000e+04        37.040000\n",
              "25%     120.025000   122.100000  ...          1.146444e+06      1427.460000\n",
              "50%     141.500000   143.400000  ...          1.783456e+06      2512.030000\n",
              "75%     157.175000   159.400000  ...          2.813594e+06      4539.015000\n",
              "max     327.700000   328.750000  ...          2.919102e+07     55755.080000\n",
              "\n",
              "[8 rows x 7 columns]"
            ]
          },
          "metadata": {
            "tags": []
          },
          "execution_count": 6
        }
      ]
    },
    {
      "cell_type": "code",
      "metadata": {
        "colab": {
          "base_uri": "https://localhost:8080/"
        },
        "id": "MRCWeL6XIuJm",
        "outputId": "7dcf282c-b472-4c52-c39e-294b99168e67"
      },
      "source": [
        "print(\"Checking the Nan values or Null values:\")\n",
        "df.isnull().sum()"
      ],
      "execution_count": 7,
      "outputs": [
        {
          "output_type": "stream",
          "text": [
            "Checking the Nan values or Null values:\n"
          ],
          "name": "stdout"
        },
        {
          "output_type": "execute_result",
          "data": {
            "text/plain": [
              "Date                    0\n",
              "Open                    0\n",
              "High                    0\n",
              "Low                     0\n",
              "Last                    0\n",
              "Close                   0\n",
              "Total Trade Quantity    0\n",
              "Turnover (Lacs)         0\n",
              "dtype: int64"
            ]
          },
          "metadata": {
            "tags": []
          },
          "execution_count": 7
        }
      ]
    },
    {
      "cell_type": "code",
      "metadata": {
        "colab": {
          "base_uri": "https://localhost:8080/",
          "height": 1000
        },
        "id": "symz_2FBIuOC",
        "outputId": "8777532c-fb29-4b7b-dd34-2e43533b4c8e"
      },
      "source": [
        "print(\"Plotting the all numerical columns\")\n",
        "col=['Open','High','Low','Last','Close',]\n",
        "for i in col:\n",
        "  plt.figure(figsize=(8,4))\n",
        "  plt.plot(df[i])"
      ],
      "execution_count": 8,
      "outputs": [
        {
          "output_type": "stream",
          "text": [
            "Plotting the all numerical columns\n"
          ],
          "name": "stdout"
        },
        {
          "output_type": "display_data",
          "data": {
            "image/png": "[encoded data removed]",
            "text/plain": [
              "<Figure size 576x288 with 1 Axes>"
            ]
          },
          "metadata": {
            "tags": [],
            "needs_background": "light"
          }
        },
        {
          "output_type": "display_data",
          "data": {
            "image/png": "[encoded data removed]",
            "text/plain": [
              "<Figure size 576x288 with 1 Axes>"
            ]
          },
          "metadata": {
            "tags": [],
            "needs_background": "light"
          }
        },
        {
          "output_type": "display_data",
          "data": {
            "image/png": "[encoded data removed]",
            "text/plain": [
              "<Figure size 576x288 with 1 Axes>"
            ]
          },
          "metadata": {
            "tags": [],
            "needs_background": "light"
          }
        },
        {
          "output_type": "display_data",
          "data": {
            "image/png": "[encoded data removed]",
            "text/plain": [
              "<Figure size 576x288 with 1 Axes>"
            ]
          },
          "metadata": {
            "tags": [],
            "needs_background": "light"
          }
        },
        {
          "output_type": "display_data",
          "data": {
            "image/png": "[encoded data removed]",
            "text/plain": [
              "<Figure size 576x288 with 1 Axes>"
            ]
          },
          "metadata": {
            "tags": [],
            "needs_background": "light"
          }
        }
      ]
    },
    {
      "cell_type": "code",
      "metadata": {
        "id": "r1LrwdadIuRB",
        "colab": {
          "base_uri": "https://localhost:8080/"
        },
        "outputId": "f81adb36-2f56-4628-d4f9-c01aa44a7694"
      },
      "source": [
        "# Change Date obeject variable type to datetime type\n",
        "df['Date']=pd.to_datetime(df['Date'])\n",
        "df.dtypes"
      ],
      "execution_count": 9,
      "outputs": [
        {
          "output_type": "execute_result",
          "data": {
            "text/plain": [
              "Date                    datetime64[ns]\n",
              "Open                           float64\n",
              "High                           float64\n",
              "Low                            float64\n",
              "Last                           float64\n",
              "Close                          float64\n",
              "Total Trade Quantity             int64\n",
              "Turnover (Lacs)                float64\n",
              "dtype: object"
            ]
          },
          "metadata": {
            "tags": []
          },
          "execution_count": 9
        }
      ]
    },
    {
      "cell_type": "code",
      "metadata": {
        "colab": {
          "base_uri": "https://localhost:8080/",
          "height": 204
        },
        "id": "o3SWEuwIiqiB",
        "outputId": "8347a663-5d9a-49b6-9fcd-64c9d68514e7"
      },
      "source": [
        "#Sorting the whole dataset\n",
        "df1=df.sort_index(ascending=False,axis=0)\n",
        "df1.head(5)"
      ],
      "execution_count": 10,
      "outputs": [
        {
          "output_type": "execute_result",
          "data": {
            "text/html": [
              "<div>\n",
              "<style scoped>\n",
              "    .dataframe tbody tr th:only-of-type {\n",
              "        vertical-align: middle;\n",
              "    }\n",
              "\n",
              "    .dataframe tbody tr th {\n",
              "        vertical-align: top;\n",
              "    }\n",
              "\n",
              "    .dataframe thead th {\n",
              "        text-align: right;\n",
              "    }\n",
              "</style>\n",
              "<table border=\"1\" class=\"dataframe\">\n",
              "  <thead>\n",
              "    <tr style=\"text-align: right;\">\n",
              "      <th></th>\n",
              "      <th>Date</th>\n",
              "      <th>Open</th>\n",
              "      <th>High</th>\n",
              "      <th>Low</th>\n",
              "      <th>Last</th>\n",
              "      <th>Close</th>\n",
              "      <th>Total Trade Quantity</th>\n",
              "      <th>Turnover (Lacs)</th>\n",
              "    </tr>\n",
              "  </thead>\n",
              "  <tbody>\n",
              "    <tr>\n",
              "      <th>2034</th>\n",
              "      <td>2010-07-21</td>\n",
              "      <td>122.1</td>\n",
              "      <td>123.00</td>\n",
              "      <td>121.05</td>\n",
              "      <td>121.10</td>\n",
              "      <td>121.55</td>\n",
              "      <td>658666</td>\n",
              "      <td>803.56</td>\n",
              "    </tr>\n",
              "    <tr>\n",
              "      <th>2033</th>\n",
              "      <td>2010-07-22</td>\n",
              "      <td>120.3</td>\n",
              "      <td>122.00</td>\n",
              "      <td>120.25</td>\n",
              "      <td>120.75</td>\n",
              "      <td>120.90</td>\n",
              "      <td>293312</td>\n",
              "      <td>355.17</td>\n",
              "    </tr>\n",
              "    <tr>\n",
              "      <th>2032</th>\n",
              "      <td>2010-07-23</td>\n",
              "      <td>121.8</td>\n",
              "      <td>121.95</td>\n",
              "      <td>120.25</td>\n",
              "      <td>120.35</td>\n",
              "      <td>120.65</td>\n",
              "      <td>281312</td>\n",
              "      <td>340.31</td>\n",
              "    </tr>\n",
              "    <tr>\n",
              "      <th>2031</th>\n",
              "      <td>2010-07-26</td>\n",
              "      <td>120.1</td>\n",
              "      <td>121.00</td>\n",
              "      <td>117.10</td>\n",
              "      <td>117.10</td>\n",
              "      <td>117.60</td>\n",
              "      <td>658440</td>\n",
              "      <td>780.01</td>\n",
              "    </tr>\n",
              "    <tr>\n",
              "      <th>2030</th>\n",
              "      <td>2010-07-27</td>\n",
              "      <td>117.6</td>\n",
              "      <td>119.50</td>\n",
              "      <td>112.00</td>\n",
              "      <td>118.80</td>\n",
              "      <td>118.65</td>\n",
              "      <td>586100</td>\n",
              "      <td>694.98</td>\n",
              "    </tr>\n",
              "  </tbody>\n",
              "</table>\n",
              "</div>"
            ],
            "text/plain": [
              "           Date   Open    High  ...   Close  Total Trade Quantity  Turnover (Lacs)\n",
              "2034 2010-07-21  122.1  123.00  ...  121.55                658666           803.56\n",
              "2033 2010-07-22  120.3  122.00  ...  120.90                293312           355.17\n",
              "2032 2010-07-23  121.8  121.95  ...  120.65                281312           340.31\n",
              "2031 2010-07-26  120.1  121.00  ...  117.60                658440           780.01\n",
              "2030 2010-07-27  117.6  119.50  ...  118.65                586100           694.98\n",
              "\n",
              "[5 rows x 8 columns]"
            ]
          },
          "metadata": {
            "tags": []
          },
          "execution_count": 10
        }
      ]
    },
    {
      "cell_type": "code",
      "metadata": {
        "colab": {
          "base_uri": "https://localhost:8080/",
          "height": 204
        },
        "id": "G1rCPS4MOwRJ",
        "outputId": "4598ed19-f2b5-4024-d00f-804140092f87"
      },
      "source": [
        "#Reset index in the Stock market data\n",
        "df2=df1.reset_index()\n",
        "df2.head(5)"
      ],
      "execution_count": 11,
      "outputs": [
        {
          "output_type": "execute_result",
          "data": {
            "text/html": [
              "<div>\n",
              "<style scoped>\n",
              "    .dataframe tbody tr th:only-of-type {\n",
              "        vertical-align: middle;\n",
              "    }\n",
              "\n",
              "    .dataframe tbody tr th {\n",
              "        vertical-align: top;\n",
              "    }\n",
              "\n",
              "    .dataframe thead th {\n",
              "        text-align: right;\n",
              "    }\n",
              "</style>\n",
              "<table border=\"1\" class=\"dataframe\">\n",
              "  <thead>\n",
              "    <tr style=\"text-align: right;\">\n",
              "      <th></th>\n",
              "      <th>index</th>\n",
              "      <th>Date</th>\n",
              "      <th>Open</th>\n",
              "      <th>High</th>\n",
              "      <th>Low</th>\n",
              "      <th>Last</th>\n",
              "      <th>Close</th>\n",
              "      <th>Total Trade Quantity</th>\n",
              "      <th>Turnover (Lacs)</th>\n",
              "    </tr>\n",
              "  </thead>\n",
              "  <tbody>\n",
              "    <tr>\n",
              "      <th>0</th>\n",
              "      <td>2034</td>\n",
              "      <td>2010-07-21</td>\n",
              "      <td>122.1</td>\n",
              "      <td>123.00</td>\n",
              "      <td>121.05</td>\n",
              "      <td>121.10</td>\n",
              "      <td>121.55</td>\n",
              "      <td>658666</td>\n",
              "      <td>803.56</td>\n",
              "    </tr>\n",
              "    <tr>\n",
              "      <th>1</th>\n",
              "      <td>2033</td>\n",
              "      <td>2010-07-22</td>\n",
              "      <td>120.3</td>\n",
              "      <td>122.00</td>\n",
              "      <td>120.25</td>\n",
              "      <td>120.75</td>\n",
              "      <td>120.90</td>\n",
              "      <td>293312</td>\n",
              "      <td>355.17</td>\n",
              "    </tr>\n",
              "    <tr>\n",
              "      <th>2</th>\n",
              "      <td>2032</td>\n",
              "      <td>2010-07-23</td>\n",
              "      <td>121.8</td>\n",
              "      <td>121.95</td>\n",
              "      <td>120.25</td>\n",
              "      <td>120.35</td>\n",
              "      <td>120.65</td>\n",
              "      <td>281312</td>\n",
              "      <td>340.31</td>\n",
              "    </tr>\n",
              "    <tr>\n",
              "      <th>3</th>\n",
              "      <td>2031</td>\n",
              "      <td>2010-07-26</td>\n",
              "      <td>120.1</td>\n",
              "      <td>121.00</td>\n",
              "      <td>117.10</td>\n",
              "      <td>117.10</td>\n",
              "      <td>117.60</td>\n",
              "      <td>658440</td>\n",
              "      <td>780.01</td>\n",
              "    </tr>\n",
              "    <tr>\n",
              "      <th>4</th>\n",
              "      <td>2030</td>\n",
              "      <td>2010-07-27</td>\n",
              "      <td>117.6</td>\n",
              "      <td>119.50</td>\n",
              "      <td>112.00</td>\n",
              "      <td>118.80</td>\n",
              "      <td>118.65</td>\n",
              "      <td>586100</td>\n",
              "      <td>694.98</td>\n",
              "    </tr>\n",
              "  </tbody>\n",
              "</table>\n",
              "</div>"
            ],
            "text/plain": [
              "   index       Date   Open  ...   Close  Total Trade Quantity  Turnover (Lacs)\n",
              "0   2034 2010-07-21  122.1  ...  121.55                658666           803.56\n",
              "1   2033 2010-07-22  120.3  ...  120.90                293312           355.17\n",
              "2   2032 2010-07-23  121.8  ...  120.65                281312           340.31\n",
              "3   2031 2010-07-26  120.1  ...  117.60                658440           780.01\n",
              "4   2030 2010-07-27  117.6  ...  118.65                586100           694.98\n",
              "\n",
              "[5 rows x 9 columns]"
            ]
          },
          "metadata": {
            "tags": []
          },
          "execution_count": 11
        }
      ]
    },
    {
      "cell_type": "code",
      "metadata": {
        "colab": {
          "base_uri": "https://localhost:8080/",
          "height": 419
        },
        "id": "hVEiyN7POPyr",
        "outputId": "b59bbc62-cde0-434b-97fe-7e4ccbac4d39"
      },
      "source": [
        "df2.drop(['index'],axis=1)"
      ],
      "execution_count": 12,
      "outputs": [
        {
          "output_type": "execute_result",
          "data": {
            "text/html": [
              "<div>\n",
              "<style scoped>\n",
              "    .dataframe tbody tr th:only-of-type {\n",
              "        vertical-align: middle;\n",
              "    }\n",
              "\n",
              "    .dataframe tbody tr th {\n",
              "        vertical-align: top;\n",
              "    }\n",
              "\n",
              "    .dataframe thead th {\n",
              "        text-align: right;\n",
              "    }\n",
              "</style>\n",
              "<table border=\"1\" class=\"dataframe\">\n",
              "  <thead>\n",
              "    <tr style=\"text-align: right;\">\n",
              "      <th></th>\n",
              "      <th>Date</th>\n",
              "      <th>Open</th>\n",
              "      <th>High</th>\n",
              "      <th>Low</th>\n",
              "      <th>Last</th>\n",
              "      <th>Close</th>\n",
              "      <th>Total Trade Quantity</th>\n",
              "      <th>Turnover (Lacs)</th>\n",
              "    </tr>\n",
              "  </thead>\n",
              "  <tbody>\n",
              "    <tr>\n",
              "      <th>0</th>\n",
              "      <td>2010-07-21</td>\n",
              "      <td>122.10</td>\n",
              "      <td>123.00</td>\n",
              "      <td>121.05</td>\n",
              "      <td>121.10</td>\n",
              "      <td>121.55</td>\n",
              "      <td>658666</td>\n",
              "      <td>803.56</td>\n",
              "    </tr>\n",
              "    <tr>\n",
              "      <th>1</th>\n",
              "      <td>2010-07-22</td>\n",
              "      <td>120.30</td>\n",
              "      <td>122.00</td>\n",
              "      <td>120.25</td>\n",
              "      <td>120.75</td>\n",
              "      <td>120.90</td>\n",
              "      <td>293312</td>\n",
              "      <td>355.17</td>\n",
              "    </tr>\n",
              "    <tr>\n",
              "      <th>2</th>\n",
              "      <td>2010-07-23</td>\n",
              "      <td>121.80</td>\n",
              "      <td>121.95</td>\n",
              "      <td>120.25</td>\n",
              "      <td>120.35</td>\n",
              "      <td>120.65</td>\n",
              "      <td>281312</td>\n",
              "      <td>340.31</td>\n",
              "    </tr>\n",
              "    <tr>\n",
              "      <th>3</th>\n",
              "      <td>2010-07-26</td>\n",
              "      <td>120.10</td>\n",
              "      <td>121.00</td>\n",
              "      <td>117.10</td>\n",
              "      <td>117.10</td>\n",
              "      <td>117.60</td>\n",
              "      <td>658440</td>\n",
              "      <td>780.01</td>\n",
              "    </tr>\n",
              "    <tr>\n",
              "      <th>4</th>\n",
              "      <td>2010-07-27</td>\n",
              "      <td>117.60</td>\n",
              "      <td>119.50</td>\n",
              "      <td>112.00</td>\n",
              "      <td>118.80</td>\n",
              "      <td>118.65</td>\n",
              "      <td>586100</td>\n",
              "      <td>694.98</td>\n",
              "    </tr>\n",
              "    <tr>\n",
              "      <th>...</th>\n",
              "      <td>...</td>\n",
              "      <td>...</td>\n",
              "      <td>...</td>\n",
              "      <td>...</td>\n",
              "      <td>...</td>\n",
              "      <td>...</td>\n",
              "      <td>...</td>\n",
              "      <td>...</td>\n",
              "    </tr>\n",
              "    <tr>\n",
              "      <th>2030</th>\n",
              "      <td>2018-09-24</td>\n",
              "      <td>233.55</td>\n",
              "      <td>239.20</td>\n",
              "      <td>230.75</td>\n",
              "      <td>234.00</td>\n",
              "      <td>233.30</td>\n",
              "      <td>3423509</td>\n",
              "      <td>7999.55</td>\n",
              "    </tr>\n",
              "    <tr>\n",
              "      <th>2031</th>\n",
              "      <td>2018-09-25</td>\n",
              "      <td>233.30</td>\n",
              "      <td>236.75</td>\n",
              "      <td>232.00</td>\n",
              "      <td>236.25</td>\n",
              "      <td>236.10</td>\n",
              "      <td>2349368</td>\n",
              "      <td>5503.90</td>\n",
              "    </tr>\n",
              "    <tr>\n",
              "      <th>2032</th>\n",
              "      <td>2018-09-26</td>\n",
              "      <td>240.00</td>\n",
              "      <td>240.00</td>\n",
              "      <td>232.50</td>\n",
              "      <td>235.00</td>\n",
              "      <td>234.25</td>\n",
              "      <td>2240909</td>\n",
              "      <td>5248.60</td>\n",
              "    </tr>\n",
              "    <tr>\n",
              "      <th>2033</th>\n",
              "      <td>2018-09-27</td>\n",
              "      <td>234.55</td>\n",
              "      <td>236.80</td>\n",
              "      <td>231.10</td>\n",
              "      <td>233.80</td>\n",
              "      <td>233.25</td>\n",
              "      <td>5082859</td>\n",
              "      <td>11859.95</td>\n",
              "    </tr>\n",
              "    <tr>\n",
              "      <th>2034</th>\n",
              "      <td>2018-09-28</td>\n",
              "      <td>234.05</td>\n",
              "      <td>235.95</td>\n",
              "      <td>230.20</td>\n",
              "      <td>233.50</td>\n",
              "      <td>233.75</td>\n",
              "      <td>3069914</td>\n",
              "      <td>7162.35</td>\n",
              "    </tr>\n",
              "  </tbody>\n",
              "</table>\n",
              "<p>2035 rows × 8 columns</p>\n",
              "</div>"
            ],
            "text/plain": [
              "           Date    Open    High  ...   Close  Total Trade Quantity  Turnover (Lacs)\n",
              "0    2010-07-21  122.10  123.00  ...  121.55                658666           803.56\n",
              "1    2010-07-22  120.30  122.00  ...  120.90                293312           355.17\n",
              "2    2010-07-23  121.80  121.95  ...  120.65                281312           340.31\n",
              "3    2010-07-26  120.10  121.00  ...  117.60                658440           780.01\n",
              "4    2010-07-27  117.60  119.50  ...  118.65                586100           694.98\n",
              "...         ...     ...     ...  ...     ...                   ...              ...\n",
              "2030 2018-09-24  233.55  239.20  ...  233.30               3423509          7999.55\n",
              "2031 2018-09-25  233.30  236.75  ...  236.10               2349368          5503.90\n",
              "2032 2018-09-26  240.00  240.00  ...  234.25               2240909          5248.60\n",
              "2033 2018-09-27  234.55  236.80  ...  233.25               5082859         11859.95\n",
              "2034 2018-09-28  234.05  235.95  ...  233.75               3069914          7162.35\n",
              "\n",
              "[2035 rows x 8 columns]"
            ]
          },
          "metadata": {
            "tags": []
          },
          "execution_count": 12
        }
      ]
    },
    {
      "cell_type": "code",
      "metadata": {
        "colab": {
          "base_uri": "https://localhost:8080/",
          "height": 282
        },
        "id": "N1JhQXKrPWzo",
        "outputId": "cbcb7f8c-bbdc-4b47-d638-ef6311ca7eb4"
      },
      "source": [
        "plt.plot(df2['Open'])"
      ],
      "execution_count": 13,
      "outputs": [
        {
          "output_type": "execute_result",
          "data": {
            "text/plain": [
              "[<matplotlib.lines.Line2D at 0x7fc513f30890>]"
            ]
          },
          "metadata": {
            "tags": []
          },
          "execution_count": 13
        },
        {
          "output_type": "display_data",
          "data": {
            "image/png": "[encoded data removed]",
            "text/plain": [
              "<Figure size 432x288 with 1 Axes>"
            ]
          },
          "metadata": {
            "tags": [],
            "needs_background": "light"
          }
        }
      ]
    },
    {
      "cell_type": "code",
      "metadata": {
        "id": "H6X4RS5FIud5"
      },
      "source": [
        "df_open=df2['Open']\n",
        "df_open=pd.DataFrame(df_open)"
      ],
      "execution_count": 14,
      "outputs": []
    },
    {
      "cell_type": "code",
      "metadata": {
        "colab": {
          "base_uri": "https://localhost:8080/",
          "height": 419
        },
        "id": "btfp7ZjZPic-",
        "outputId": "75c01730-6556-44ff-f424-1f6ea921823f"
      },
      "source": [
        "df_open"
      ],
      "execution_count": 15,
      "outputs": [
        {
          "output_type": "execute_result",
          "data": {
            "text/html": [
              "<div>\n",
              "<style scoped>\n",
              "    .dataframe tbody tr th:only-of-type {\n",
              "        vertical-align: middle;\n",
              "    }\n",
              "\n",
              "    .dataframe tbody tr th {\n",
              "        vertical-align: top;\n",
              "    }\n",
              "\n",
              "    .dataframe thead th {\n",
              "        text-align: right;\n",
              "    }\n",
              "</style>\n",
              "<table border=\"1\" class=\"dataframe\">\n",
              "  <thead>\n",
              "    <tr style=\"text-align: right;\">\n",
              "      <th></th>\n",
              "      <th>Open</th>\n",
              "    </tr>\n",
              "  </thead>\n",
              "  <tbody>\n",
              "    <tr>\n",
              "      <th>0</th>\n",
              "      <td>122.10</td>\n",
              "    </tr>\n",
              "    <tr>\n",
              "      <th>1</th>\n",
              "      <td>120.30</td>\n",
              "    </tr>\n",
              "    <tr>\n",
              "      <th>2</th>\n",
              "      <td>121.80</td>\n",
              "    </tr>\n",
              "    <tr>\n",
              "      <th>3</th>\n",
              "      <td>120.10</td>\n",
              "    </tr>\n",
              "    <tr>\n",
              "      <th>4</th>\n",
              "      <td>117.60</td>\n",
              "    </tr>\n",
              "    <tr>\n",
              "      <th>...</th>\n",
              "      <td>...</td>\n",
              "    </tr>\n",
              "    <tr>\n",
              "      <th>2030</th>\n",
              "      <td>233.55</td>\n",
              "    </tr>\n",
              "    <tr>\n",
              "      <th>2031</th>\n",
              "      <td>233.30</td>\n",
              "    </tr>\n",
              "    <tr>\n",
              "      <th>2032</th>\n",
              "      <td>240.00</td>\n",
              "    </tr>\n",
              "    <tr>\n",
              "      <th>2033</th>\n",
              "      <td>234.55</td>\n",
              "    </tr>\n",
              "    <tr>\n",
              "      <th>2034</th>\n",
              "      <td>234.05</td>\n",
              "    </tr>\n",
              "  </tbody>\n",
              "</table>\n",
              "<p>2035 rows × 1 columns</p>\n",
              "</div>"
            ],
            "text/plain": [
              "        Open\n",
              "0     122.10\n",
              "1     120.30\n",
              "2     121.80\n",
              "3     120.10\n",
              "4     117.60\n",
              "...      ...\n",
              "2030  233.55\n",
              "2031  233.30\n",
              "2032  240.00\n",
              "2033  234.55\n",
              "2034  234.05\n",
              "\n",
              "[2035 rows x 1 columns]"
            ]
          },
          "metadata": {
            "tags": []
          },
          "execution_count": 15
        }
      ]
    },
    {
      "cell_type": "code",
      "metadata": {
        "colab": {
          "base_uri": "https://localhost:8080/"
        },
        "id": "SWdGvUG1Ys_h",
        "outputId": "ba20b13f-6891-43ba-e2a9-46f588edca4b"
      },
      "source": [
        "print(\"Min:\",np.min(df_open['Open']))\n",
        "print(\"Max:\",np.max(df_open['Open']))"
      ],
      "execution_count": 16,
      "outputs": [
        {
          "output_type": "stream",
          "text": [
            "Min: 81.1\n",
            "Max: 327.7\n"
          ],
          "name": "stdout"
        }
      ]
    },
    {
      "cell_type": "code",
      "metadata": {
        "id": "5x-6kX_3aFdW"
      },
      "source": [
        "#Normalize the dataset\n",
        "sc=MinMaxScaler(feature_range=(0,1))\n",
        "df_open=sc.fit_transform(np.array(df_open))"
      ],
      "execution_count": 17,
      "outputs": []
    },
    {
      "cell_type": "code",
      "metadata": {
        "colab": {
          "base_uri": "https://localhost:8080/"
        },
        "id": "ycOBZSIxaa-m",
        "outputId": "10149ece-60cf-4512-ab68-a0ddbf0140cc"
      },
      "source": [
        "print(df_open.shape)\n",
        "print(df_open)"
      ],
      "execution_count": 18,
      "outputs": [
        {
          "output_type": "stream",
          "text": [
            "(2035, 1)\n",
            "[[0.16626115]\n",
            " [0.15896188]\n",
            " [0.16504461]\n",
            " ...\n",
            " [0.64436334]\n",
            " [0.62226277]\n",
            " [0.6202352 ]]\n"
          ],
          "name": "stdout"
        }
      ]
    },
    {
      "cell_type": "markdown",
      "metadata": {
        "id": "RI554FRBuIOm"
      },
      "source": [
        "##**Data Analyize**"
      ]
    },
    {
      "cell_type": "code",
      "metadata": {
        "id": "8daXMmWHuamL",
        "colab": {
          "base_uri": "https://localhost:8080/"
        },
        "outputId": "b95cfc4c-68e4-45c1-83e6-846f8a07fc34"
      },
      "source": [
        "#Splits into train and test sets\n",
        "train_size = int(len(df_open) * 0.80)\n",
        "test_size = len(df_open) - train_size\n",
        "train_data, test_data = df_open[0:train_size,:], df_open[train_size:len(df_open),:]\n",
        "print(len(train_data), len(test_data))"
      ],
      "execution_count": 19,
      "outputs": [
        {
          "output_type": "stream",
          "text": [
            "1628 407\n"
          ],
          "name": "stdout"
        }
      ]
    },
    {
      "cell_type": "code",
      "metadata": {
        "colab": {
          "base_uri": "https://localhost:8080/"
        },
        "id": "EoWsWfOcbXWe",
        "outputId": "19d2a31a-6fac-4d86-9bfc-80ddf3bcdfb2"
      },
      "source": [
        "print(\"Shape of the train data\",train_data.shape)\n",
        "print(\"Shape of the test data\",test_data.shape)"
      ],
      "execution_count": 20,
      "outputs": [
        {
          "output_type": "stream",
          "text": [
            "Shape of the train data (1628, 1)\n",
            "Shape of the test data (407, 1)\n"
          ],
          "name": "stdout"
        }
      ]
    },
    {
      "cell_type": "code",
      "metadata": {
        "id": "AUe5lp32boam"
      },
      "source": [
        "# Convert an array of values into a dataset\n",
        "def build_dataset(data,n_step):\n",
        "    x,y=[],[]\n",
        "    for i in range(len(data)):\n",
        "        last_x=i + n_step\n",
        "        if last_x > len(data)-1:\n",
        "            break\n",
        "        data_x=data[i:last_x,0]\n",
        "        data_y=data[last_x,0]\n",
        "        x.append(data_x)\n",
        "        y.append(data_y)\n",
        "    return np.array(x), np.array(y)"
      ],
      "execution_count": 21,
      "outputs": []
    },
    {
      "cell_type": "code",
      "metadata": {
        "id": "SOhGGpsVdR4O"
      },
      "source": [
        "n_step=100\n",
        "x_train,y_train=build_dataset(train_data,n_step)\n",
        "x_test,y_test=build_dataset(test_data,n_step)"
      ],
      "execution_count": 22,
      "outputs": []
    },
    {
      "cell_type": "code",
      "metadata": {
        "colab": {
          "base_uri": "https://localhost:8080/"
        },
        "id": "oLGjlr9ydSog",
        "outputId": "6dd495d7-5ecf-4f02-9523-0ea73624cb59"
      },
      "source": [
        "print(x_train.shape)\n",
        "print(y_train.shape)\n",
        "print(x_test.shape)\n",
        "print(y_test.shape)"
      ],
      "execution_count": 23,
      "outputs": [
        {
          "output_type": "stream",
          "text": [
            "(1528, 100)\n",
            "(1528,)\n",
            "(307, 100)\n",
            "(307,)\n"
          ],
          "name": "stdout"
        }
      ]
    },
    {
      "cell_type": "code",
      "metadata": {
        "id": "hZjykrg1dSxJ"
      },
      "source": [
        "x_train=x_train.reshape(x_train.shape[0],x_train.shape[1],1)\n",
        "x_test=x_test.reshape(x_test.shape[0],x_test.shape[1],1)"
      ],
      "execution_count": 24,
      "outputs": []
    },
    {
      "cell_type": "markdown",
      "metadata": {
        "id": "SeZ5d0H3Uhfs"
      },
      "source": [
        "**Build the LSTM model**"
      ]
    },
    {
      "cell_type": "code",
      "metadata": {
        "id": "IuV5x_s3dS1p"
      },
      "source": [
        "# define model\n",
        "model = Sequential()\n",
        "model.add(LSTM(50, return_sequences=True, input_shape=(100,1)))\n",
        "model.add(LSTM(50, return_sequences=True))\n",
        "model.add(LSTM(50))\n",
        "model.add(Dense(1))\n",
        "model.compile(optimizer='adam', loss='mse')"
      ],
      "execution_count": 25,
      "outputs": []
    },
    {
      "cell_type": "code",
      "metadata": {
        "colab": {
          "base_uri": "https://localhost:8080/"
        },
        "id": "N6rbnsw6dS59",
        "outputId": "24226abe-d346-41a8-c0fd-036f3e64ad36"
      },
      "source": [
        "model.summary()"
      ],
      "execution_count": 26,
      "outputs": [
        {
          "output_type": "stream",
          "text": [
            "Model: \"sequential\"\n",
            "_________________________________________________________________\n",
            "Layer (type)                 Output Shape              Param #   \n",
            "=================================================================\n",
            "lstm (LSTM)                  (None, 100, 50)           10400     \n",
            "_________________________________________________________________\n",
            "lstm_1 (LSTM)                (None, 100, 50)           20200     \n",
            "_________________________________________________________________\n",
            "lstm_2 (LSTM)                (None, 50)                20200     \n",
            "_________________________________________________________________\n",
            "dense (Dense)                (None, 1)                 51        \n",
            "=================================================================\n",
            "Total params: 50,851\n",
            "Trainable params: 50,851\n",
            "Non-trainable params: 0\n",
            "_________________________________________________________________\n"
          ],
          "name": "stdout"
        }
      ]
    },
    {
      "cell_type": "code",
      "metadata": {
        "colab": {
          "base_uri": "https://localhost:8080/"
        },
        "id": "XzzeebT9dS-H",
        "outputId": "7958f200-449b-470f-aa3c-f8fda126b5b1"
      },
      "source": [
        "#Fit the model\n",
        "model.fit(x_train,y_train,validation_data=(x_test,y_test),epochs=100,batch_size=64,verbose=1)"
      ],
      "execution_count": 27,
      "outputs": [
        {
          "output_type": "stream",
          "text": [
            "Epoch 1/100\n",
            "24/24 [==============================] - 10s 218ms/step - loss: 0.0062 - val_loss: 0.0220\n",
            "Epoch 2/100\n",
            "24/24 [==============================] - 4s 163ms/step - loss: 0.0012 - val_loss: 0.0051\n",
            "Epoch 3/100\n",
            "24/24 [==============================] - 4s 166ms/step - loss: 8.6309e-04 - val_loss: 0.0063\n",
            "Epoch 4/100\n",
            "24/24 [==============================] - 4s 170ms/step - loss: 8.2257e-04 - val_loss: 0.0048\n",
            "Epoch 5/100\n",
            "24/24 [==============================] - 4s 167ms/step - loss: 7.6661e-04 - val_loss: 0.0056\n",
            "Epoch 6/100\n",
            "24/24 [==============================] - 4s 168ms/step - loss: 7.3666e-04 - val_loss: 0.0060\n",
            "Epoch 7/100\n",
            "24/24 [==============================] - 4s 166ms/step - loss: 6.9498e-04 - val_loss: 0.0061\n",
            "Epoch 8/100\n",
            "24/24 [==============================] - 4s 166ms/step - loss: 6.6012e-04 - val_loss: 0.0054\n",
            "Epoch 9/100\n",
            "24/24 [==============================] - 4s 167ms/step - loss: 6.2767e-04 - val_loss: 0.0089\n",
            "Epoch 10/100\n",
            "24/24 [==============================] - 4s 164ms/step - loss: 6.5510e-04 - val_loss: 0.0082\n",
            "Epoch 11/100\n",
            "24/24 [==============================] - 4s 166ms/step - loss: 6.0884e-04 - val_loss: 0.0060\n",
            "Epoch 12/100\n",
            "24/24 [==============================] - 4s 166ms/step - loss: 5.8643e-04 - val_loss: 0.0051\n",
            "Epoch 13/100\n",
            "24/24 [==============================] - 4s 166ms/step - loss: 6.1538e-04 - val_loss: 0.0065\n",
            "Epoch 14/100\n",
            "24/24 [==============================] - 4s 164ms/step - loss: 5.9297e-04 - val_loss: 0.0068\n",
            "Epoch 15/100\n",
            "24/24 [==============================] - 4s 164ms/step - loss: 6.3130e-04 - val_loss: 0.0073\n",
            "Epoch 16/100\n",
            "24/24 [==============================] - 4s 164ms/step - loss: 5.1376e-04 - val_loss: 0.0097\n",
            "Epoch 17/100\n",
            "24/24 [==============================] - 4s 165ms/step - loss: 5.3843e-04 - val_loss: 0.0122\n",
            "Epoch 18/100\n",
            "24/24 [==============================] - 4s 164ms/step - loss: 5.1062e-04 - val_loss: 0.0137\n",
            "Epoch 19/100\n",
            "24/24 [==============================] - 4s 167ms/step - loss: 5.0349e-04 - val_loss: 0.0092\n",
            "Epoch 20/100\n",
            "24/24 [==============================] - 4s 164ms/step - loss: 4.9446e-04 - val_loss: 0.0130\n",
            "Epoch 21/100\n",
            "24/24 [==============================] - 4s 166ms/step - loss: 4.5282e-04 - val_loss: 0.0137\n",
            "Epoch 22/100\n",
            "24/24 [==============================] - 4s 167ms/step - loss: 4.6078e-04 - val_loss: 0.0134\n",
            "Epoch 23/100\n",
            "24/24 [==============================] - 4s 166ms/step - loss: 4.5729e-04 - val_loss: 0.0094\n",
            "Epoch 24/100\n",
            "24/24 [==============================] - 4s 168ms/step - loss: 4.2035e-04 - val_loss: 0.0108\n",
            "Epoch 25/100\n",
            "24/24 [==============================] - 4s 167ms/step - loss: 4.3302e-04 - val_loss: 0.0098\n",
            "Epoch 26/100\n",
            "24/24 [==============================] - 4s 167ms/step - loss: 4.3571e-04 - val_loss: 0.0097\n",
            "Epoch 27/100\n",
            "24/24 [==============================] - 4s 170ms/step - loss: 3.9197e-04 - val_loss: 0.0080\n",
            "Epoch 28/100\n",
            "24/24 [==============================] - 4s 168ms/step - loss: 3.9239e-04 - val_loss: 0.0100\n",
            "Epoch 29/100\n",
            "24/24 [==============================] - 4s 165ms/step - loss: 3.7430e-04 - val_loss: 0.0081\n",
            "Epoch 30/100\n",
            "24/24 [==============================] - 4s 167ms/step - loss: 3.8550e-04 - val_loss: 0.0120\n",
            "Epoch 31/100\n",
            "24/24 [==============================] - 4s 163ms/step - loss: 3.6672e-04 - val_loss: 0.0094\n",
            "Epoch 32/100\n",
            "24/24 [==============================] - 4s 166ms/step - loss: 3.5177e-04 - val_loss: 0.0078\n",
            "Epoch 33/100\n",
            "24/24 [==============================] - 4s 166ms/step - loss: 3.4126e-04 - val_loss: 0.0087\n",
            "Epoch 34/100\n",
            "24/24 [==============================] - 4s 164ms/step - loss: 3.3207e-04 - val_loss: 0.0066\n",
            "Epoch 35/100\n",
            "24/24 [==============================] - 4s 165ms/step - loss: 3.1761e-04 - val_loss: 0.0065\n",
            "Epoch 36/100\n",
            "24/24 [==============================] - 4s 167ms/step - loss: 3.2418e-04 - val_loss: 0.0083\n",
            "Epoch 37/100\n",
            "24/24 [==============================] - 4s 165ms/step - loss: 3.2391e-04 - val_loss: 0.0056\n",
            "Epoch 38/100\n",
            "24/24 [==============================] - 4s 166ms/step - loss: 2.9923e-04 - val_loss: 0.0048\n",
            "Epoch 39/100\n",
            "24/24 [==============================] - 4s 167ms/step - loss: 3.0052e-04 - val_loss: 0.0052\n",
            "Epoch 40/100\n",
            "24/24 [==============================] - 4s 167ms/step - loss: 3.1700e-04 - val_loss: 0.0055\n",
            "Epoch 41/100\n",
            "24/24 [==============================] - 4s 167ms/step - loss: 2.8173e-04 - val_loss: 0.0056\n",
            "Epoch 42/100\n",
            "24/24 [==============================] - 4s 167ms/step - loss: 2.8817e-04 - val_loss: 0.0087\n",
            "Epoch 43/100\n",
            "24/24 [==============================] - 4s 169ms/step - loss: 2.7502e-04 - val_loss: 0.0063\n",
            "Epoch 44/100\n",
            "24/24 [==============================] - 4s 168ms/step - loss: 3.0204e-04 - val_loss: 0.0033\n",
            "Epoch 45/100\n",
            "24/24 [==============================] - 4s 167ms/step - loss: 2.7873e-04 - val_loss: 0.0056\n",
            "Epoch 46/100\n",
            "24/24 [==============================] - 4s 166ms/step - loss: 2.6238e-04 - val_loss: 0.0054\n",
            "Epoch 47/100\n",
            "24/24 [==============================] - 4s 164ms/step - loss: 2.5547e-04 - val_loss: 0.0056\n",
            "Epoch 48/100\n",
            "24/24 [==============================] - 4s 166ms/step - loss: 2.7173e-04 - val_loss: 0.0035\n",
            "Epoch 49/100\n",
            "24/24 [==============================] - 4s 165ms/step - loss: 2.3562e-04 - val_loss: 0.0031\n",
            "Epoch 50/100\n",
            "24/24 [==============================] - 4s 161ms/step - loss: 2.4343e-04 - val_loss: 0.0024\n",
            "Epoch 51/100\n",
            "24/24 [==============================] - 4s 165ms/step - loss: 2.3516e-04 - val_loss: 0.0025\n",
            "Epoch 52/100\n",
            "24/24 [==============================] - 4s 167ms/step - loss: 2.4661e-04 - val_loss: 0.0051\n",
            "Epoch 53/100\n",
            "24/24 [==============================] - 4s 165ms/step - loss: 2.5636e-04 - val_loss: 0.0034\n",
            "Epoch 54/100\n",
            "24/24 [==============================] - 4s 165ms/step - loss: 2.2111e-04 - val_loss: 0.0045\n",
            "Epoch 55/100\n",
            "24/24 [==============================] - 4s 165ms/step - loss: 2.1775e-04 - val_loss: 0.0043\n",
            "Epoch 56/100\n",
            "24/24 [==============================] - 4s 169ms/step - loss: 2.0612e-04 - val_loss: 0.0029\n",
            "Epoch 57/100\n",
            "24/24 [==============================] - 4s 169ms/step - loss: 2.1076e-04 - val_loss: 0.0047\n",
            "Epoch 58/100\n",
            "24/24 [==============================] - 4s 167ms/step - loss: 2.0624e-04 - val_loss: 0.0033\n",
            "Epoch 59/100\n",
            "24/24 [==============================] - 4s 167ms/step - loss: 1.9887e-04 - val_loss: 0.0045\n",
            "Epoch 60/100\n",
            "24/24 [==============================] - 4s 167ms/step - loss: 1.9995e-04 - val_loss: 0.0041\n",
            "Epoch 61/100\n",
            "24/24 [==============================] - 4s 168ms/step - loss: 1.8799e-04 - val_loss: 0.0040\n",
            "Epoch 62/100\n",
            "24/24 [==============================] - 4s 166ms/step - loss: 1.8747e-04 - val_loss: 0.0041\n",
            "Epoch 63/100\n",
            "24/24 [==============================] - 4s 164ms/step - loss: 1.8778e-04 - val_loss: 0.0028\n",
            "Epoch 64/100\n",
            "24/24 [==============================] - 4s 167ms/step - loss: 1.8149e-04 - val_loss: 0.0019\n",
            "Epoch 65/100\n",
            "24/24 [==============================] - 4s 168ms/step - loss: 1.7452e-04 - val_loss: 0.0015\n",
            "Epoch 66/100\n",
            "24/24 [==============================] - 4s 167ms/step - loss: 2.0098e-04 - val_loss: 0.0056\n",
            "Epoch 67/100\n",
            "24/24 [==============================] - 4s 168ms/step - loss: 1.9656e-04 - val_loss: 0.0020\n",
            "Epoch 68/100\n",
            "24/24 [==============================] - 4s 169ms/step - loss: 1.7656e-04 - val_loss: 0.0028\n",
            "Epoch 69/100\n",
            "24/24 [==============================] - 4s 168ms/step - loss: 1.6947e-04 - val_loss: 0.0033\n",
            "Epoch 70/100\n",
            "24/24 [==============================] - 4s 166ms/step - loss: 1.6697e-04 - val_loss: 0.0038\n",
            "Epoch 71/100\n",
            "24/24 [==============================] - 4s 167ms/step - loss: 1.6706e-04 - val_loss: 0.0038\n",
            "Epoch 72/100\n",
            "24/24 [==============================] - 4s 170ms/step - loss: 1.6309e-04 - val_loss: 0.0052\n",
            "Epoch 73/100\n",
            "24/24 [==============================] - 4s 167ms/step - loss: 1.6535e-04 - val_loss: 0.0029\n",
            "Epoch 74/100\n",
            "24/24 [==============================] - 4s 165ms/step - loss: 1.7630e-04 - val_loss: 0.0038\n",
            "Epoch 75/100\n",
            "24/24 [==============================] - 4s 166ms/step - loss: 1.6575e-04 - val_loss: 0.0024\n",
            "Epoch 76/100\n",
            "24/24 [==============================] - 4s 163ms/step - loss: 1.6981e-04 - val_loss: 0.0022\n",
            "Epoch 77/100\n",
            "24/24 [==============================] - 4s 165ms/step - loss: 1.6544e-04 - val_loss: 0.0031\n",
            "Epoch 78/100\n",
            "24/24 [==============================] - 4s 167ms/step - loss: 1.6210e-04 - val_loss: 0.0016\n",
            "Epoch 79/100\n",
            "24/24 [==============================] - 4s 167ms/step - loss: 1.6624e-04 - val_loss: 0.0040\n",
            "Epoch 80/100\n",
            "24/24 [==============================] - 4s 165ms/step - loss: 1.5022e-04 - val_loss: 0.0031\n",
            "Epoch 81/100\n",
            "24/24 [==============================] - 4s 168ms/step - loss: 1.4645e-04 - val_loss: 0.0027\n",
            "Epoch 82/100\n",
            "24/24 [==============================] - 4s 167ms/step - loss: 1.5357e-04 - val_loss: 0.0031\n",
            "Epoch 83/100\n",
            "24/24 [==============================] - 4s 167ms/step - loss: 1.6321e-04 - val_loss: 0.0023\n",
            "Epoch 84/100\n",
            "24/24 [==============================] - 4s 168ms/step - loss: 1.5069e-04 - val_loss: 0.0017\n",
            "Epoch 85/100\n",
            "24/24 [==============================] - 4s 168ms/step - loss: 1.6973e-04 - val_loss: 0.0029\n",
            "Epoch 86/100\n",
            "24/24 [==============================] - 4s 169ms/step - loss: 1.5499e-04 - val_loss: 0.0023\n",
            "Epoch 87/100\n",
            "24/24 [==============================] - 4s 168ms/step - loss: 1.6315e-04 - val_loss: 0.0043\n",
            "Epoch 88/100\n",
            "24/24 [==============================] - 4s 166ms/step - loss: 1.6388e-04 - val_loss: 0.0015\n",
            "Epoch 89/100\n",
            "24/24 [==============================] - 4s 167ms/step - loss: 1.6696e-04 - val_loss: 0.0037\n",
            "Epoch 90/100\n",
            "24/24 [==============================] - 4s 164ms/step - loss: 1.5065e-04 - val_loss: 0.0024\n",
            "Epoch 91/100\n",
            "24/24 [==============================] - 4s 165ms/step - loss: 1.4958e-04 - val_loss: 0.0033\n",
            "Epoch 92/100\n",
            "24/24 [==============================] - 4s 165ms/step - loss: 1.5075e-04 - val_loss: 0.0020\n",
            "Epoch 93/100\n",
            "24/24 [==============================] - 4s 165ms/step - loss: 1.5241e-04 - val_loss: 0.0029\n",
            "Epoch 94/100\n",
            "24/24 [==============================] - 4s 166ms/step - loss: 1.4423e-04 - val_loss: 0.0027\n",
            "Epoch 95/100\n",
            "24/24 [==============================] - 4s 167ms/step - loss: 1.4484e-04 - val_loss: 0.0028\n",
            "Epoch 96/100\n",
            "24/24 [==============================] - 4s 164ms/step - loss: 1.5784e-04 - val_loss: 0.0019\n",
            "Epoch 97/100\n",
            "24/24 [==============================] - 4s 167ms/step - loss: 1.5720e-04 - val_loss: 0.0046\n",
            "Epoch 98/100\n",
            "24/24 [==============================] - 4s 166ms/step - loss: 1.6942e-04 - val_loss: 0.0017\n",
            "Epoch 99/100\n",
            "24/24 [==============================] - 4s 168ms/step - loss: 1.5365e-04 - val_loss: 0.0032\n",
            "Epoch 100/100\n",
            "24/24 [==============================] - 4s 167ms/step - loss: 1.4722e-04 - val_loss: 0.0028\n"
          ],
          "name": "stdout"
        },
        {
          "output_type": "execute_result",
          "data": {
            "text/plain": [
              "<tensorflow.python.keras.callbacks.History at 0x7fc5115819d0>"
            ]
          },
          "metadata": {
            "tags": []
          },
          "execution_count": 27
        }
      ]
    },
    {
      "cell_type": "code",
      "metadata": {
        "id": "dobRNcUNbgRl",
        "colab": {
          "base_uri": "https://localhost:8080/",
          "height": 282
        },
        "outputId": "4a2de382-8539-469c-c7ae-4e8da658bdf7"
      },
      "source": [
        "#plotting the loss variable in this model\n",
        "loss_per_epoch=model.history.history['loss']\n",
        "plt.plot(range(len(loss_per_epoch)),loss_per_epoch)"
      ],
      "execution_count": 28,
      "outputs": [
        {
          "output_type": "execute_result",
          "data": {
            "text/plain": [
              "[<matplotlib.lines.Line2D at 0x7fc50c33ab90>]"
            ]
          },
          "metadata": {
            "tags": []
          },
          "execution_count": 28
        },
        {
          "output_type": "display_data",
          "data": {
            "image/png": "[encoded data removed]",
            "text/plain": [
              "<Figure size 432x288 with 1 Axes>"
            ]
          },
          "metadata": {
            "tags": [],
            "needs_background": "light"
          }
        }
      ]
    },
    {
      "cell_type": "markdown",
      "metadata": {
        "id": "2-vTH3rfU38e"
      },
      "source": [
        "**Predictions using the LSTM model**"
      ]
    },
    {
      "cell_type": "code",
      "metadata": {
        "id": "yw2LBH0KdTBp"
      },
      "source": [
        "#Predict the model\n",
        "train_predict=model.predict(x_train)\n",
        "test_predict=model.predict(x_test)"
      ],
      "execution_count": 29,
      "outputs": []
    },
    {
      "cell_type": "code",
      "metadata": {
        "id": "zuUEOpkMdTFU"
      },
      "source": [
        "#Inverse prediction\n",
        "train_predict=sc.inverse_transform(train_predict)\n",
        "test_predict=sc.inverse_transform(test_predict)"
      ],
      "execution_count": 30,
      "outputs": []
    },
    {
      "cell_type": "code",
      "metadata": {
        "colab": {
          "base_uri": "https://localhost:8080/"
        },
        "id": "T9RR37DRhhZw",
        "outputId": "decfdfd7-2eb1-47ae-fd0e-16cbd5298bc9"
      },
      "source": [
        "# Calculate the mean squared error\n",
        "mse_train=math.sqrt(mean_squared_error(y_train,train_predict))\n",
        "print(\"MSE of train data:\",mse_train)\n",
        "mse_test=math.sqrt(mean_squared_error(y_test,test_predict))\n",
        "print(\"MSE of test data\",mse_test)"
      ],
      "execution_count": 31,
      "outputs": [
        {
          "output_type": "stream",
          "text": [
            "MSE of train data: 132.4128520389\n",
            "MSE of test data 240.5647178477599\n"
          ],
          "name": "stdout"
        }
      ]
    },
    {
      "cell_type": "code",
      "metadata": {
        "id": "P_GlbJcQoylj"
      },
      "source": [
        "#Predict lenght consecutive values from a real one\n",
        "def predict_sequences(model, startvalue, length):\n",
        "    prediction_seqs = []\n",
        "    observed_val = startvalue\n",
        "    \n",
        "    for i in range(length): \n",
        "        predicted = []        \n",
        "        pre_y=model.predict(observed_val[newaxis,:,:])\n",
        "        predicted.append(pre_y[0,0])\n",
        "        observed_val = observed_val[0:]\n",
        "        observed_val = np.insert(observed_val[0:], i+1, predicted[-1], axis=0)\n",
        "        prediction_seqs.append(predicted[-1])\n",
        "        \n",
        "    return prediction_seqs\n"
      ],
      "execution_count": 32,
      "outputs": []
    },
    {
      "cell_type": "markdown",
      "metadata": {
        "id": "ZRxBO-TzVFcA"
      },
      "source": [
        "**Visualize the predicted stock costs with actual stock costs**\n"
      ]
    },
    {
      "cell_type": "code",
      "metadata": {
        "id": "Ltw0Scpnsj5f"
      },
      "source": [
        "def stock_plot_results(predicted_data, real_data,length):\n",
        "    plt.figure(figsize=(20,10))\n",
        "    plt.plot(sc.inverse_transform(real_data.reshape(-1, 1))[length:])\n",
        "    plt.plot(sc.inverse_transform(np.array(predicted_data).reshape(-1, 1))[length:])\n",
        "    plt.show()"
      ],
      "execution_count": 33,
      "outputs": []
    },
    {
      "cell_type": "code",
      "metadata": {
        "colab": {
          "base_uri": "https://localhost:8080/"
        },
        "id": "BSKwuB1Ooyql",
        "outputId": "1fd2f498-7e82-481d-b469-61aff8e836a9"
      },
      "source": [
        "predict_length=5\n",
        "predictions = predict_sequences(model, x_test[0], predict_length)"
      ],
      "execution_count": 34,
      "outputs": [
        {
          "output_type": "stream",
          "text": [
            "WARNING:tensorflow:Model was constructed with shape (None, 100, 1) for input KerasTensor(type_spec=TensorSpec(shape=(None, 100, 1), dtype=tf.float32, name='lstm_input'), name='lstm_input', description=\"created by layer 'lstm_input'\"), but it was called on an input with incompatible shape (None, 101, 1).\n"
          ],
          "name": "stdout"
        }
      ]
    },
    {
      "cell_type": "code",
      "metadata": {
        "colab": {
          "base_uri": "https://localhost:8080/",
          "height": 677
        },
        "id": "Hiba15GhoywT",
        "outputId": "acde57aa-47da-4236-c440-d8d788e8986c"
      },
      "source": [
        "print(sc.inverse_transform(np.array(predictions).reshape(-1, 1)))\n",
        "stock_plot_results(predictions, y_test, predict_length)"
      ],
      "execution_count": 35,
      "outputs": [
        {
          "output_type": "stream",
          "text": [
            "[[150.50206]\n",
            " [150.50206]\n",
            " [150.50206]\n",
            " [150.50206]\n",
            " [150.50206]]\n"
          ],
          "name": "stdout"
        },
        {
          "output_type": "display_data",
          "data": {
            "image/png": "[encoded data removed]",
            "text/plain": [
              "<Figure size 1440x720 with 1 Axes>"
            ]
          },
          "metadata": {
            "tags": [],
            "needs_background": "light"
          }
        }
      ]
    },
    {
      "cell_type": "markdown",
      "metadata": {
        "id": "mXXpJnUSC9p4"
      },
      "source": [
        "## Predicted the next 100 dayes"
      ]
    },
    {
      "cell_type": "code",
      "metadata": {
        "id": "IIUepc6j_wnR"
      },
      "source": [
        "predata=test_data[307:]\n",
        "predata=predata.reshape(1,-1)\n",
        "shortdata=list(predata)\n",
        "shortdata=shortdata[0].tolist()"
      ],
      "execution_count": 36,
      "outputs": []
    },
    {
      "cell_type": "code",
      "metadata": {
        "id": "ve3Hvuwo_wrV"
      },
      "source": [
        "def predict_output(inputs,next_data):\n",
        "  pred_otput=[];\n",
        "  n_step=100\n",
        "  i=0\n",
        "  while(i<30):\n",
        "      if len(next_data)>100:\n",
        "          inputs=np.array(next_data[1:])\n",
        "          inputs=inputs.reshape(1,-1)\n",
        "          inputs=inputs.reshape((1,n_step,1))\n",
        "          obs_y=model.predict(inputs)\n",
        "          next_data.extend(obs_y[0].tolist())\n",
        "          next_data=next_data[1:]\n",
        "          pred_otput.extend(obs_y.tolist())\n",
        "          i=i+1\n",
        "      else:\n",
        "          inputs=inputs.reshape(1,n_step,1)\n",
        "          obs_y=model.predict(inputs)\n",
        "          next_data.extend(obs_y[0].tolist())\n",
        "          pred_otput.extend(obs_y.tolist())\n",
        "          i=i+1\n",
        "  return pred_otput"
      ],
      "execution_count": 38,
      "outputs": []
    },
    {
      "cell_type": "code",
      "metadata": {
        "id": "hjb_Zl0-LXSM"
      },
      "source": [
        "final_output=predict_output(predata,shortdata)"
      ],
      "execution_count": 39,
      "outputs": []
    },
    {
      "cell_type": "code",
      "metadata": {
        "id": "wEztVaX9_wwi"
      },
      "source": [
        "new_day=np.arange(1,101)\n",
        "pre_day=np.arange(101,131)\n",
        "n_df=df_open.tolist()\n",
        "n_df.extend(final_output)"
      ],
      "execution_count": 40,
      "outputs": []
    },
    {
      "cell_type": "code",
      "metadata": {
        "colab": {
          "base_uri": "https://localhost:8080/",
          "height": 282
        },
        "id": "mD1u3b2G_w4z",
        "outputId": "a6905d6b-51d0-4421-df3e-701702b17fff"
      },
      "source": [
        "plt.plot(new_day,sc.inverse_transform(df_open[1935:]))\n",
        "plt.plot(pre_day,sc.inverse_transform(final_output))"
      ],
      "execution_count": 42,
      "outputs": [
        {
          "output_type": "execute_result",
          "data": {
            "text/plain": [
              "[<matplotlib.lines.Line2D at 0x7fc50a89d450>]"
            ]
          },
          "metadata": {
            "tags": []
          },
          "execution_count": 42
        },
        {
          "output_type": "display_data",
          "data": {
            "image/png": "[encoded data removed]",
            "text/plain": [
              "<Figure size 432x288 with 1 Axes>"
            ]
          },
          "metadata": {
            "tags": [],
            "needs_background": "light"
          }
        }
      ]
    },
    {
      "cell_type": "code",
      "metadata": {
        "id": "QL4rmNl1_w_1"
      },
      "source": [
        ""
      ],
      "execution_count": null,
      "outputs": []
    },
    {
      "cell_type": "code",
      "metadata": {
        "id": "KITgN8lj_xFh"
      },
      "source": [
        ""
      ],
      "execution_count": null,
      "outputs": []
    },
    {
      "cell_type": "code",
      "metadata": {
        "id": "2452oMRE_xJT"
      },
      "source": [
        ""
      ],
      "execution_count": null,
      "outputs": []
    },
    {
      "cell_type": "code",
      "metadata": {
        "id": "CcfNVLk2_xM_"
      },
      "source": [
        ""
      ],
      "execution_count": null,
      "outputs": []
    },
    {
      "cell_type": "code",
      "metadata": {
        "id": "JP7iOt1z_xQe"
      },
      "source": [
        ""
      ],
      "execution_count": null,
      "outputs": []
    }
  ]
}